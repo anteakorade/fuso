{
 "cells": [
  {
   "cell_type": "code",
   "execution_count": 1,
   "id": "3307caef",
   "metadata": {},
   "outputs": [],
   "source": [
    "from glob import glob\n",
    "from framed import load_cbmodel\n",
    "import pandas as pd\n",
    "import matplotlib.pyplot as plt\n",
    "import seaborn as sns\n",
    "from framed.io.sbml import sanitize_id\n",
    "from scipy.stats import pearsonr\n",
    "import os.path\n",
    "import seaborn as sns\n",
    "from carveme import project_dir\n",
    "import cobra\n"
   ]
  },
  {
   "cell_type": "code",
   "execution_count": 2,
   "id": "975b5c88",
   "metadata": {},
   "outputs": [],
   "source": [
    "sns.set_style('white')\n",
    "sns.set_palette('deep')"
   ]
  },
  {
   "cell_type": "markdown",
   "id": "be5de04e",
   "metadata": {},
   "source": [
    "### Load models"
   ]
  },
  {
   "cell_type": "code",
   "execution_count": 3,
   "id": "9457b0ec",
   "metadata": {},
   "outputs": [],
   "source": [
    "\n",
    "files = r\"data\\\\vhs models\\\\*.xml\"\n",
    "prefix, suffix = files.split('*')\n",
    "models = {x[len(prefix):-len(suffix)]: cobra.io.read_sbml_model(x)\n",
    "          for x in glob(files)} "
   ]
  },
  {
   "cell_type": "markdown",
   "id": "c06d5b57",
   "metadata": {},
   "source": [
    "# Model description"
   ]
  },
  {
   "cell_type": "code",
   "execution_count": 5,
   "id": "b2995365",
   "metadata": {},
   "outputs": [],
   "source": [
    "stats={}\n",
    "\n",
    "for name, model in models.items():\n",
    "    \n",
    "    genes=len(model.genes)\n",
    "    reactions=len(model.reactions)\n",
    "    metabolites=len(model.metabolites)\n",
    "    stats[name] = (genes,reactions,metabolites)\n",
    "df = pd.DataFrame(stats, index=['genes', 'reactions', 'metabolites']).T"
   ]
  },
  {
   "cell_type": "code",
   "execution_count": 6,
   "id": "807b282e",
   "metadata": {},
   "outputs": [
    {
     "name": "stderr",
     "output_type": "stream",
     "text": [
      "C:\\Users\\pau.perezescriva\\Anaconda3\\lib\\site-packages\\seaborn\\axisgrid.py:1667: UserWarning: The `size` parameter has been renamed to `height`; please update your code.\n",
      "  warnings.warn(msg, UserWarning)\n",
      "C:\\Users\\pau.perezescriva\\Anaconda3\\lib\\site-packages\\seaborn\\distributions.py:1699: FutureWarning: The `bw` parameter is deprecated in favor of `bw_method` and `bw_adjust`. Using 100 for `bw_method`, but please see the docs for the new parameters and update your code.\n",
      "  warnings.warn(msg, FutureWarning)\n",
      "C:\\Users\\pau.perezescriva\\Anaconda3\\lib\\site-packages\\seaborn\\distributions.py:1699: FutureWarning: The `bw` parameter is deprecated in favor of `bw_method` and `bw_adjust`. Using 100 for `bw_method`, but please see the docs for the new parameters and update your code.\n",
      "  warnings.warn(msg, FutureWarning)\n"
     ]
    },
    {
     "data": {
      "text/plain": [
       "[<matplotlib.axis.XTick at 0x28fd47c31f0>,\n",
       " <matplotlib.axis.XTick at 0x28fd47c33d0>,\n",
       " <matplotlib.axis.XTick at 0x28fd4ee5820>,\n",
       " <matplotlib.axis.XTick at 0x28fd4f19070>,\n",
       " <matplotlib.axis.XTick at 0x28fd4f19730>]"
      ]
     },
     "execution_count": 6,
     "metadata": {},
     "output_type": "execute_result"
    },
    {
     "data": {
      "image/png": "[encoded data removed]",
      "text/plain": [
       "<Figure size 288x288 with 3 Axes>"
      ]
     },
     "metadata": {},
     "output_type": "display_data"
    }
   ],
   "source": [
    "g = sns.JointGrid(x='genes', y='reactions', data=df, ratio=4, size=4, xlim=(0,1600), ylim=(0,2500))\n",
    "g = g.plot_joint(plt.scatter, color=sns.color_palette()[0], alpha=0.1, s=25, edgecolor=\"white\", linewidth=0.5)\n",
    "g = g.plot_marginals(sns.kdeplot, shade=True, bw=100)\n",
    "g.ax_marg_x.axes.grid(False)\n",
    "g.ax_marg_y.axes.grid(False)\n",
    "g.ax_joint.set_xlabel('number of metabolic genes')\n",
    "g.ax_joint.set_ylabel('number of reactions')\n",
    "g.ax_joint.set_xticks([0, 400, 800, 1200, 1600])"
   ]
  },
  {
   "cell_type": "code",
   "execution_count": 7,
   "id": "b64f6524",
   "metadata": {},
   "outputs": [
    {
     "name": "stderr",
     "output_type": "stream",
     "text": [
      "C:\\Users\\pau.perezescriva\\Anaconda3\\lib\\site-packages\\seaborn\\axisgrid.py:1667: UserWarning: The `size` parameter has been renamed to `height`; please update your code.\n",
      "  warnings.warn(msg, UserWarning)\n",
      "C:\\Users\\pau.perezescriva\\Anaconda3\\lib\\site-packages\\seaborn\\distributions.py:1699: FutureWarning: The `bw` parameter is deprecated in favor of `bw_method` and `bw_adjust`. Using 100 for `bw_method`, but please see the docs for the new parameters and update your code.\n",
      "  warnings.warn(msg, FutureWarning)\n",
      "C:\\Users\\pau.perezescriva\\Anaconda3\\lib\\site-packages\\seaborn\\distributions.py:1699: FutureWarning: The `bw` parameter is deprecated in favor of `bw_method` and `bw_adjust`. Using 100 for `bw_method`, but please see the docs for the new parameters and update your code.\n",
      "  warnings.warn(msg, FutureWarning)\n"
     ]
    },
    {
     "data": {
      "text/plain": [
       "Text(2.5, 0.5, 'number of metabolites')"
      ]
     },
     "execution_count": 7,
     "metadata": {},
     "output_type": "execute_result"
    },
    {
     "data": {
      "image/png": "[encoded data removed]",
      "text/plain": [
       "<Figure size 288x288 with 3 Axes>"
      ]
     },
     "metadata": {},
     "output_type": "display_data"
    }
   ],
   "source": [
    "g = sns.JointGrid(x='reactions', y='metabolites', data=df, ratio=4, size=4, xlim=(0,2500), ylim=(0,1200))\n",
    "g = g.plot_joint(plt.scatter, color=sns.color_palette()[0],\n",
    "                 alpha=0.2, s=25, edgecolor=\"white\", linewidth=0.5)\n",
    "g = g.plot_marginals(sns.kdeplot, shade=True, bw=100, color=sns.color_palette('deep')[0])\n",
    "g.ax_marg_x.axes.grid(False)\n",
    "g.ax_marg_y.axes.grid(False)\n",
    "g.ax_joint.set_xlabel('number of reactions')\n",
    "g.ax_joint.set_ylabel('number of metabolites')"
   ]
  },
  {
   "cell_type": "code",
   "execution_count": 8,
   "id": "f6c04236",
   "metadata": {},
   "outputs": [
    {
     "name": "stderr",
     "output_type": "stream",
     "text": [
      "C:\\Users\\pau.perezescriva\\Anaconda3\\lib\\site-packages\\seaborn\\axisgrid.py:1667: UserWarning: The `size` parameter has been renamed to `height`; please update your code.\n",
      "  warnings.warn(msg, UserWarning)\n",
      "C:\\Users\\pau.perezescriva\\Anaconda3\\lib\\site-packages\\seaborn\\distributions.py:1699: FutureWarning: The `bw` parameter is deprecated in favor of `bw_method` and `bw_adjust`. Using 100 for `bw_method`, but please see the docs for the new parameters and update your code.\n",
      "  warnings.warn(msg, FutureWarning)\n",
      "C:\\Users\\pau.perezescriva\\Anaconda3\\lib\\site-packages\\seaborn\\distributions.py:1699: FutureWarning: The `bw` parameter is deprecated in favor of `bw_method` and `bw_adjust`. Using 100 for `bw_method`, but please see the docs for the new parameters and update your code.\n",
      "  warnings.warn(msg, FutureWarning)\n"
     ]
    },
    {
     "data": {
      "text/plain": [
       "[<matplotlib.axis.XTick at 0x28fd5050d90>,\n",
       " <matplotlib.axis.XTick at 0x28fd5050d60>,\n",
       " <matplotlib.axis.XTick at 0x28fd50dc3a0>,\n",
       " <matplotlib.axis.XTick at 0x28fd50dc910>,\n",
       " <matplotlib.axis.XTick at 0x28fd50e30a0>]"
      ]
     },
     "execution_count": 8,
     "metadata": {},
     "output_type": "execute_result"
    },
    {
     "data": {
      "image/png": "[encoded data removed]",
      "text/plain": [
       "<Figure size 288x288 with 3 Axes>"
      ]
     },
     "metadata": {},
     "output_type": "display_data"
    }
   ],
   "source": [
    "g = sns.JointGrid(x='genes', y='metabolites', data=df, ratio=4, size=4, xlim=(0,1600), ylim=(0,1200))\n",
    "g = g.plot_joint(plt.scatter, color=sns.color_palette()[0], alpha=0.1, s=25, edgecolor=\"white\", linewidth=0.5)\n",
    "g = g.plot_marginals(sns.kdeplot, shade=True, bw=100)\n",
    "g.ax_marg_x.axes.grid(False)\n",
    "g.ax_marg_y.axes.grid(False)\n",
    "g.ax_joint.set_xlabel('number of metabolic genes')\n",
    "g.ax_joint.set_ylabel('number of metabolites')\n",
    "g.ax_joint.set_xticks([0, 400, 800, 1200, 1600])\n"
   ]
  },
  {
   "cell_type": "markdown",
   "id": "b31d19e4",
   "metadata": {},
   "source": [
    "## We observe a clear correlation between genes, metabolites and reactions"
   ]
  },
  {
   "cell_type": "code",
   "execution_count": 9,
   "id": "368e25df",
   "metadata": {},
   "outputs": [],
   "source": [
    "organisms = ['F. nucleatum', 'G. morbillorum', 'P. gingivalis',\n",
    "             'C. jejuni', 'P. stomatis']\n",
    "\n",
    "vhs = {\n",
    "    'F. nucleatum': r\"data\\\\vhs models\\\\Fn_vhs.xml\",\n",
    "    'G. morbillorum': r\"data\\\\vhs models\\\\Gm_vhs.xml\",\n",
    "    'P. gingivalis': r\"data\\\\vhs models\\\\Pg_vhs.xml\",\n",
    "    'C. jejuni': r\"data\\\\vhs models\\\\Cj_vhs.xml\",\n",
    "    'P. stomatis': r\"data\\\\vhs models\\\\Ps_vhs.xml\"\n",
    "}\n",
    "\n",
    "carveme = {\n",
    "    'F. nucleatum': r\"data\\\\carveme_models\\\\Fn_carveme.xml\",\n",
    "    'G. morbillorum': r\"data\\\\carveme_models\\\\Gm_carveme.xml\",\n",
    "    'P. gingivalis': r\"data\\\\carveme_models\\\\Pg_carveme.xml\",\n",
    "    'C. jejuni': r\"data\\\\carveme_models\\\\Cj_carveme.xml\",\n",
    "    'P. stomatis': r\"data\\\\carveme_models\\\\Ps_carveme.xml\"\n",
    "}\n",
    "for label, model_file in vhs.items():\n",
    "    vhs[label] =  cobra.io.read_sbml_model(model_file)\n",
    "\n",
    "for label, model_file in carveme.items():\n",
    "    carveme[label] =  cobra.io.read_sbml_model(model_file)"
   ]
  },
  {
   "cell_type": "code",
   "execution_count": 10,
   "id": "5590984d",
   "metadata": {},
   "outputs": [],
   "source": [
    "data = []\n",
    "spontaneous = {'G_spontaneous', 'G_Unknown', 'G_s0001', 'G_NoAssignment'} \n",
    "for organism in organisms:\n",
    "    \n",
    "    model = vhs[organism]\n",
    "    n_genes = len(set(model.genes) - spontaneous)\n",
    "    n_rxns = len([x for x in model.reactions if not x.name.startswith('R_EX_')])\n",
    "    \n",
    "    n_mets = len(model.metabolites)\n",
    "    data.append((organism, 'Agora', n_genes, n_rxns, n_mets))\n",
    "    \n",
    "    model = carveme[organism]\n",
    "    n_genes = len(set(model.genes) - spontaneous)\n",
    "    n_rxns = len([x for x in model.reactions if not x.name.startswith('R_EX_')])\n",
    "    \n",
    "    n_mets = len(model.metabolites)\n",
    "    data.append((organism, 'CarveMe', n_genes, n_rxns, n_mets))\n",
    "df = pd.DataFrame(data, columns=['Organism', 'Source', 'Genes', 'Reactions', 'Metabolites'])"
   ]
  },
  {
   "cell_type": "code",
   "execution_count": 11,
   "id": "44231e2e",
   "metadata": {},
   "outputs": [
    {
     "name": "stderr",
     "output_type": "stream",
     "text": [
      "C:\\Users\\pau.perezescriva\\AppData\\Local\\Temp\\ipykernel_28108\\8227644.py:8: UserWarning: You have mixed positional and keyword arguments, some input may be discarded.\n",
      "  ax1.legend(legend_text, bbox_to_anchor=(1.05, 1.5), ncol=3, handles=legend_handles)\n"
     ]
    },
    {
     "data": {
      "image/png": "[encoded data removed]",
      "text/plain": [
       "<Figure size 360x324 with 3 Axes>"
      ]
     },
     "metadata": {},
     "output_type": "display_data"
    }
   ],
   "source": [
    "f, (ax1, ax2, ax3) = plt.subplots(3, sharex=True, figsize=(5, 4.5))\n",
    "\n",
    "sns.barplot(x=\"Organism\", y=\"Genes\", hue=\"Source\", data=df, palette='deep', ax=ax1, alpha=0.8)\n",
    "ax1.set_ylim(0, 3000)\n",
    "ax1.set_yticks([0, 1500, 3000])\n",
    "ax1.set_xlabel('')\n",
    "legend_handles, legend_text = ax1.get_legend_handles_labels()\n",
    "ax1.legend(legend_text, bbox_to_anchor=(1.05, 1.5), ncol=3, handles=legend_handles)\n",
    "\n",
    "\n",
    "sns.barplot(x=\"Organism\", y=\"Reactions\", hue=\"Source\", data=df, palette='deep', ax=ax2, alpha=0.8)\n",
    "ax2.set_ylim(0, 3000)\n",
    "ax2.set_yticks([0, 1500, 3000])\n",
    "ax2.get_legend().set_title('')\n",
    "ax2.set_xlabel('')\n",
    "ax2.legend([])\n",
    "\n",
    "res = sns.barplot(x=\"Organism\", y=\"Metabolites\", hue=\"Source\", data=df, palette='deep', ax=ax3, alpha=0.8)\n",
    "ax3.set_xticklabels(ax3.get_xticklabels(), rotation=90)\n",
    "ax3.set_ylim(0, 2000)\n",
    "ax3.set_yticks([0, 1000, 2000])\n",
    "ax3.set_xlabel('')\n",
    "ax3.legend([])\n",
    "\n",
    "plt.tight_layout()\n",
    "plt.savefig(r\"results\\\\summary_carveme_vs_agora.png\", dpi=300, bbox_inches='tight')"
   ]
  },
  {
   "cell_type": "markdown",
   "id": "f1cd4e54",
   "metadata": {},
   "source": [
    "###  Although major differences are observed at the Gene level speciallz for CarveMe giving higher number of genes, we see that this is not reallz translated to the number of metabolites"
   ]
  },
  {
   "cell_type": "markdown",
   "id": "ec93dece",
   "metadata": {},
   "source": [
    "How well do this models work when they are not constrained? We used the true data obtained from Agora as absolute truth, as see which ones are correctly predicted by the two types of models"
   ]
  },
  {
   "cell_type": "code",
   "execution_count": 12,
   "id": "a9ef9b08",
   "metadata": {},
   "outputs": [],
   "source": [
    "agora_paper_data = pd.read_excel(r\"data\\agora_metabolites_info.xlsx\")"
   ]
  },
  {
   "cell_type": "code",
   "execution_count": 13,
   "id": "d1e9757d",
   "metadata": {},
   "outputs": [
    {
     "data": {
      "text/html": [
       "<div>\n",
       "<style scoped>\n",
       "    .dataframe tbody tr th:only-of-type {\n",
       "        vertical-align: middle;\n",
       "    }\n",
       "\n",
       "    .dataframe tbody tr th {\n",
       "        vertical-align: top;\n",
       "    }\n",
       "\n",
       "    .dataframe thead th {\n",
       "        text-align: right;\n",
       "    }\n",
       "</style>\n",
       "<table border=\"1\" class=\"dataframe\">\n",
       "  <thead>\n",
       "    <tr style=\"text-align: right;\">\n",
       "      <th></th>\n",
       "      <th>Organism</th>\n",
       "      <th>Exchange Agora</th>\n",
       "      <th>Exchange CarveMe</th>\n",
       "      <th>Direction</th>\n",
       "      <th>AGORA2</th>\n",
       "      <th>KBase</th>\n",
       "      <th>BiGG</th>\n",
       "      <th>CarveMe</th>\n",
       "      <th>gapseq</th>\n",
       "      <th>MAGMA</th>\n",
       "    </tr>\n",
       "  </thead>\n",
       "  <tbody>\n",
       "    <tr>\n",
       "      <th>0</th>\n",
       "      <td>G. morbillorum</td>\n",
       "      <td>EX_ac(e)</td>\n",
       "      <td>EX_ac_e</td>\n",
       "      <td>Secretion</td>\n",
       "      <td>TP</td>\n",
       "      <td>FN</td>\n",
       "      <td>NaN</td>\n",
       "      <td>FN</td>\n",
       "      <td>NaN</td>\n",
       "      <td>NaN</td>\n",
       "    </tr>\n",
       "    <tr>\n",
       "      <th>1</th>\n",
       "      <td>G. morbillorum</td>\n",
       "      <td>EX_etoh(e)</td>\n",
       "      <td>EX_etho_e</td>\n",
       "      <td>Secretion</td>\n",
       "      <td>TP</td>\n",
       "      <td>FN</td>\n",
       "      <td>NaN</td>\n",
       "      <td>FN</td>\n",
       "      <td>NaN</td>\n",
       "      <td>NaN</td>\n",
       "    </tr>\n",
       "    <tr>\n",
       "      <th>2</th>\n",
       "      <td>G. morbillorum</td>\n",
       "      <td>EX_for(e)</td>\n",
       "      <td>EX_for_e</td>\n",
       "      <td>Secretion</td>\n",
       "      <td>TP</td>\n",
       "      <td>TP</td>\n",
       "      <td>NaN</td>\n",
       "      <td>FN</td>\n",
       "      <td>NaN</td>\n",
       "      <td>NaN</td>\n",
       "    </tr>\n",
       "    <tr>\n",
       "      <th>3</th>\n",
       "      <td>G. morbillorum</td>\n",
       "      <td>EX_lac_L(e)</td>\n",
       "      <td>EX_lac__L_e</td>\n",
       "      <td>Secretion</td>\n",
       "      <td>TP</td>\n",
       "      <td>TP</td>\n",
       "      <td>NaN</td>\n",
       "      <td>TP</td>\n",
       "      <td>NaN</td>\n",
       "      <td>NaN</td>\n",
       "    </tr>\n",
       "    <tr>\n",
       "      <th>4</th>\n",
       "      <td>G. morbillorum</td>\n",
       "      <td>EX_nh4(e)</td>\n",
       "      <td>EX_nh4_e</td>\n",
       "      <td>Secretion</td>\n",
       "      <td>TP</td>\n",
       "      <td>FN</td>\n",
       "      <td>NaN</td>\n",
       "      <td>TP</td>\n",
       "      <td>NaN</td>\n",
       "      <td>NaN</td>\n",
       "    </tr>\n",
       "    <tr>\n",
       "      <th>...</th>\n",
       "      <td>...</td>\n",
       "      <td>...</td>\n",
       "      <td>...</td>\n",
       "      <td>...</td>\n",
       "      <td>...</td>\n",
       "      <td>...</td>\n",
       "      <td>...</td>\n",
       "      <td>...</td>\n",
       "      <td>...</td>\n",
       "      <td>...</td>\n",
       "    </tr>\n",
       "    <tr>\n",
       "      <th>61</th>\n",
       "      <td>C. jejuni</td>\n",
       "      <td>EX_15dap(e)</td>\n",
       "      <td>EX_15dap_e</td>\n",
       "      <td>Secretion</td>\n",
       "      <td>FN</td>\n",
       "      <td>FN</td>\n",
       "      <td>NaN</td>\n",
       "      <td>FN</td>\n",
       "      <td>NaN</td>\n",
       "      <td>NaN</td>\n",
       "    </tr>\n",
       "    <tr>\n",
       "      <th>62</th>\n",
       "      <td>C. jejuni</td>\n",
       "      <td>EX_ptrc(e)</td>\n",
       "      <td>EX_ptrc_e</td>\n",
       "      <td>Secretion</td>\n",
       "      <td>TP</td>\n",
       "      <td>FN</td>\n",
       "      <td>NaN</td>\n",
       "      <td>FN</td>\n",
       "      <td>NaN</td>\n",
       "      <td>NaN</td>\n",
       "    </tr>\n",
       "    <tr>\n",
       "      <th>63</th>\n",
       "      <td>C. jejuni</td>\n",
       "      <td>EX_spmd(e)</td>\n",
       "      <td>EX_spmd_e</td>\n",
       "      <td>Secretion</td>\n",
       "      <td>FN</td>\n",
       "      <td>FN</td>\n",
       "      <td>NaN</td>\n",
       "      <td>TP</td>\n",
       "      <td>NaN</td>\n",
       "      <td>NaN</td>\n",
       "    </tr>\n",
       "    <tr>\n",
       "      <th>64</th>\n",
       "      <td>C. jejuni</td>\n",
       "      <td>EX_sprm(e)</td>\n",
       "      <td>EX_sprm_e</td>\n",
       "      <td>Secretion</td>\n",
       "      <td>FN</td>\n",
       "      <td>FN</td>\n",
       "      <td>NaN</td>\n",
       "      <td>FN</td>\n",
       "      <td>NaN</td>\n",
       "      <td>NaN</td>\n",
       "    </tr>\n",
       "    <tr>\n",
       "      <th>65</th>\n",
       "      <td>P. stomatis</td>\n",
       "      <td>EX_ac(e)</td>\n",
       "      <td>EX_ac_e</td>\n",
       "      <td>Secretion</td>\n",
       "      <td>TP</td>\n",
       "      <td>FN</td>\n",
       "      <td>NaN</td>\n",
       "      <td>FN</td>\n",
       "      <td>TP</td>\n",
       "      <td>TP</td>\n",
       "    </tr>\n",
       "  </tbody>\n",
       "</table>\n",
       "<p>66 rows × 10 columns</p>\n",
       "</div>"
      ],
      "text/plain": [
       "          Organism Exchange Agora Exchange CarveMe  Direction AGORA2 KBase  \\\n",
       "0   G. morbillorum       EX_ac(e)          EX_ac_e  Secretion     TP    FN   \n",
       "1   G. morbillorum     EX_etoh(e)        EX_etho_e  Secretion     TP    FN   \n",
       "2   G. morbillorum      EX_for(e)         EX_for_e  Secretion     TP    TP   \n",
       "3   G. morbillorum    EX_lac_L(e)      EX_lac__L_e  Secretion     TP    TP   \n",
       "4   G. morbillorum      EX_nh4(e)         EX_nh4_e  Secretion     TP    FN   \n",
       "..             ...            ...              ...        ...    ...   ...   \n",
       "61       C. jejuni    EX_15dap(e)       EX_15dap_e  Secretion     FN    FN   \n",
       "62       C. jejuni     EX_ptrc(e)        EX_ptrc_e  Secretion     TP    FN   \n",
       "63       C. jejuni     EX_spmd(e)        EX_spmd_e  Secretion     FN    FN   \n",
       "64       C. jejuni     EX_sprm(e)        EX_sprm_e  Secretion     FN    FN   \n",
       "65     P. stomatis       EX_ac(e)          EX_ac_e  Secretion     TP    FN   \n",
       "\n",
       "    BiGG CarveMe gapseq MAGMA  \n",
       "0    NaN      FN    NaN   NaN  \n",
       "1    NaN      FN    NaN   NaN  \n",
       "2    NaN      FN    NaN   NaN  \n",
       "3    NaN      TP    NaN   NaN  \n",
       "4    NaN      TP    NaN   NaN  \n",
       "..   ...     ...    ...   ...  \n",
       "61   NaN      FN    NaN   NaN  \n",
       "62   NaN      FN    NaN   NaN  \n",
       "63   NaN      TP    NaN   NaN  \n",
       "64   NaN      FN    NaN   NaN  \n",
       "65   NaN      FN     TP    TP  \n",
       "\n",
       "[66 rows x 10 columns]"
      ]
     },
     "execution_count": 13,
     "metadata": {},
     "output_type": "execute_result"
    }
   ],
   "source": [
    "agora_paper_data"
   ]
  },
  {
   "cell_type": "code",
   "execution_count": 14,
   "id": "ac78315f",
   "metadata": {},
   "outputs": [],
   "source": [
    "vhs_frames={}\n",
    "for bacteria in vhs.keys():\n",
    "    solution = vhs[bacteria].optimize().to_frame()\n",
    "    s = solution[solution.index.str.contains(\"EX_\")]\n",
    "    vhs_frames[bacteria] = s[s.fluxes>0]\n",
    "carveme_frames={}\n",
    "for bacteria in vhs.keys():\n",
    "    solution = carveme[bacteria].optimize().to_frame()\n",
    "    s = solution[solution.index.str.contains(\"EX_\")]\n",
    "    carveme_frames[bacteria] = s[s.fluxes>0]\n",
    "        \n",
    "#export to excel file the dictionary\n",
    "results_dir=r\"results\\\\carveme_vs_agora\\\\\"\n",
    "with pd.ExcelWriter(results_dir+'vhs_secretion.xlsx') as writer:  # pylint: disable=abstract-class-instantiated\n",
    "    for sheet_name, df in vhs_frames.items():\n",
    "        df.to_excel(writer, sheet_name=sheet_name)\n",
    "with pd.ExcelWriter(results_dir+'carveme_secretion.xlsx') as writer:  # pylint: disable=abstract-class-instantiated\n",
    "    for sheet_name, df in carveme_frames.items():\n",
    "        df.to_excel(writer, sheet_name=sheet_name)"
   ]
  },
  {
   "cell_type": "markdown",
   "id": "f0656508",
   "metadata": {},
   "source": [
    "### Let plot the TP vs FN"
   ]
  },
  {
   "cell_type": "code",
   "execution_count": 15,
   "id": "bd9df41b",
   "metadata": {},
   "outputs": [],
   "source": [
    "data_dir =r\"data\\\\\"\n",
    "df = pd.read_excel(data_dir+\"TPFN_carveme_vhs.xlsx\",sheet_name=\"complex medium\")"
   ]
  },
  {
   "cell_type": "code",
   "execution_count": 16,
   "id": "6ce34c5a",
   "metadata": {},
   "outputs": [
    {
     "data": {
      "image/png": "[encoded data removed]",
      "text/plain": [
       "<Figure size 720x360 with 4 Axes>"
      ]
     },
     "metadata": {},
     "output_type": "display_data"
    }
   ],
   "source": [
    "from sklearn.metrics import confusion_matrix, ConfusionMatrixDisplay\n",
    "import matplotlib.pyplot as plt\n",
    "\n",
    "# create four new columns for each condition (AGORA2_TP, AGORA2_FN, CarveMe_TP, CarveMe_FN)\n",
    "# Convert 'TP' and 'FN' to model's predictions and actual labels\n",
    "df['AGORA2_pred'] = df['AGORA2'].apply(lambda x: 1 if x == 'TP' else 0)\n",
    "df['AGORA2_true'] = df['AGORA2'].apply(lambda x: 1)  # the secretion exists, so the true label is 1\n",
    "df['CarveMe_pred'] = df['CarveMe'].apply(lambda x: 1 if x == 'TP' else 0)\n",
    "df['CarveMe_true'] = df['CarveMe'].apply(lambda x: 1)  # the secretion exists, so the true label is 1\n",
    "\n",
    "# Calculate confusion matrices\n",
    "cm_agora = confusion_matrix(df['AGORA2_true'], df['AGORA2_pred'])\n",
    "cm_carve = confusion_matrix(df['CarveMe_true'], df['CarveMe_pred'])\n",
    "\n",
    "fig, ax = plt.subplots(1, 2, figsize=(10, 5))\n",
    "\n",
    "# Display confusion matrix for AGORA2\n",
    "ConfusionMatrixDisplay(cm_agora, display_labels=['Negatives', 'Positives']).plot(values_format = 'd', cmap='Blues', ax=ax[0])\n",
    "ax[0].set_title('AGORA2')\n",
    "\n",
    "# Display confusion matrix for CarveMe\n",
    "ConfusionMatrixDisplay(cm_carve, display_labels=['Negatives', 'Positives']).plot(values_format = 'd', cmap='Blues', ax=ax[1])\n",
    "ax[1].set_title('CarveMe')\n",
    "\n",
    "plt.tight_layout()\n",
    "plt.savefig(r\"results\\carveme_vs_agora\\confussion matrix Agora vs CarveMe.png\", dpi=300, bbox_inches='tight')"
   ]
  },
  {
   "cell_type": "markdown",
   "id": "eeb1b054",
   "metadata": {},
   "source": [
    "### Now let's see if we can observe any cross-feeding "
   ]
  },
  {
   "cell_type": "markdown",
   "id": "bedb8425",
   "metadata": {},
   "source": [
    "For this we will first find a common defined minimal medium that allows growth of all the bacteria and see the end-preoduction products from all vhs models in the common minimal medium"
   ]
  },
  {
   "cell_type": "code",
   "execution_count": 17,
   "id": "d1debadb",
   "metadata": {},
   "outputs": [],
   "source": [
    "organisms = ['F. nucleatum', 'G. morbillorum', 'P. gingivalis',\n",
    "             'C. jejuni', 'P. stomatis']\n",
    "\n",
    "vhs = {\n",
    "    'F. nucleatum': r\"data\\\\vhs models\\\\Fn_vhs.xml\",\n",
    "    'G. morbillorum': r\"data\\\\vhs models\\\\Gm_vhs.xml\",\n",
    "    'P. gingivalis': r\"data\\\\vhs models\\\\Pg_vhs.xml\",\n",
    "    'C. jejuni': r\"data\\\\vhs models\\\\Cj_vhs.xml\",\n",
    "    'P. stomatis': r\"data\\\\vhs models\\\\Ps_vhs.xml\"\n",
    "}\n",
    "\n",
    "carveme = {\n",
    "    'F. nucleatum': r\"data\\\\carveme_models\\\\Fn_carveme.xml\",\n",
    "    'G. morbillorum': r\"data\\\\carveme_models\\\\Gm_carveme.xml\",\n",
    "    'P. gingivalis': r\"data\\\\carveme_models\\\\Pg_carveme.xml\",\n",
    "    'C. jejuni': r\"data\\\\carveme_models\\\\Cj_carveme.xml\",\n",
    "    'P. stomatis': r\"data\\\\carveme_models\\\\Ps_carveme.xml\"\n",
    "}\n",
    "for label, model_file in vhs.items():\n",
    "    vhs[label] =  cobra.io.read_sbml_model(model_file)\n",
    "\n",
    "for label, model_file in carveme.items():\n",
    "    carveme[label] =  cobra.io.read_sbml_model(model_file)"
   ]
  },
  {
   "cell_type": "code",
   "execution_count": 18,
   "id": "3b2517b7",
   "metadata": {},
   "outputs": [
    {
     "name": "stderr",
     "output_type": "stream",
     "text": [
      "C:\\Users\\pau.perezescriva\\Anaconda3\\lib\\site-packages\\cobra\\medium\\minimal_medium.py:112: FutureWarning: The default dtype for empty Series will be 'object' instead of 'float64' in a future version. Specify a dtype explicitly to silence this warning.\n",
      "  medium = pd.Series()\n",
      "C:\\Users\\pau.perezescriva\\Anaconda3\\lib\\site-packages\\cobra\\medium\\minimal_medium.py:112: FutureWarning: The default dtype for empty Series will be 'object' instead of 'float64' in a future version. Specify a dtype explicitly to silence this warning.\n",
      "  medium = pd.Series()\n",
      "C:\\Users\\pau.perezescriva\\Anaconda3\\lib\\site-packages\\cobra\\medium\\minimal_medium.py:112: FutureWarning: The default dtype for empty Series will be 'object' instead of 'float64' in a future version. Specify a dtype explicitly to silence this warning.\n",
      "  medium = pd.Series()\n",
      "C:\\Users\\pau.perezescriva\\Anaconda3\\lib\\site-packages\\cobra\\medium\\minimal_medium.py:112: FutureWarning: The default dtype for empty Series will be 'object' instead of 'float64' in a future version. Specify a dtype explicitly to silence this warning.\n",
      "  medium = pd.Series()\n",
      "C:\\Users\\pau.perezescriva\\Anaconda3\\lib\\site-packages\\cobra\\medium\\minimal_medium.py:112: FutureWarning: The default dtype for empty Series will be 'object' instead of 'float64' in a future version. Specify a dtype explicitly to silence this warning.\n",
      "  medium = pd.Series()\n"
     ]
    }
   ],
   "source": [
    "import cobra.medium as m\n",
    "#Find minimal medium for every bacteria\n",
    "minimal_medium={}\n",
    "for bacteria in vhs.keys():\n",
    "    minimal_medium[bacteria] = m.minimal_medium(vhs[bacteria],min_objective_value=0.8)\n"
   ]
  },
  {
   "cell_type": "markdown",
   "id": "df147c5a",
   "metadata": {},
   "source": [
    "### Let's establish a common \"minimal\" medium for all bacteria"
   ]
  },
  {
   "cell_type": "code",
   "execution_count": 19,
   "id": "5aab1a70",
   "metadata": {},
   "outputs": [
    {
     "name": "stderr",
     "output_type": "stream",
     "text": [
      "C:\\Users\\pau.perezescriva\\AppData\\Local\\Temp\\ipykernel_28108\\2950509929.py:9: FutureWarning: The frame.append method is deprecated and will be removed from pandas in a future version. Use pandas.concat instead.\n",
      "  all_minimal_media = all_minimal_media.append(medium.to_frame().transpose())\n",
      "C:\\Users\\pau.perezescriva\\AppData\\Local\\Temp\\ipykernel_28108\\2950509929.py:9: FutureWarning: The frame.append method is deprecated and will be removed from pandas in a future version. Use pandas.concat instead.\n",
      "  all_minimal_media = all_minimal_media.append(medium.to_frame().transpose())\n",
      "C:\\Users\\pau.perezescriva\\AppData\\Local\\Temp\\ipykernel_28108\\2950509929.py:9: FutureWarning: The frame.append method is deprecated and will be removed from pandas in a future version. Use pandas.concat instead.\n",
      "  all_minimal_media = all_minimal_media.append(medium.to_frame().transpose())\n"
     ]
    }
   ],
   "source": [
    "import pandas as pd\n",
    "\n",
    "# Initialize an empty DataFrame to hold all minimal medium components\n",
    "all_minimal_media = pd.DataFrame()\n",
    "\n",
    "# Iterate over each minimal medium\n",
    "for bacteria, medium in minimal_medium.items():\n",
    "    # Convert the medium to a DataFrame and append to the main DataFrame\n",
    "    all_minimal_media = all_minimal_media.append(medium.to_frame().transpose())\n",
    "\n",
    "# Aggregate the components by taking the maximum value of each component\n",
    "# (this is a conservative approach that ensures we have enough of each component for all bacteria)\n",
    "combined_minimal_medium = all_minimal_media.max()\n",
    "\n",
    "# Convert the combined medium back to a dictionary\n",
    "combined_minimal_medium_dict = combined_minimal_medium.to_dict()\n"
   ]
  },
  {
   "cell_type": "markdown",
   "id": "eb8bfa7f",
   "metadata": {},
   "source": [
    "### Establish common minimal medium for every bacteria\n",
    "If the reaction is not in the bacteria model, it will be skipped"
   ]
  },
  {
   "cell_type": "code",
   "execution_count": 20,
   "id": "dbf7f6e7",
   "metadata": {},
   "outputs": [],
   "source": [
    "#set the  medium for all bacteria to be the common minimal medium medium\n",
    "for bacteria in vhs.keys():\n",
    "    # Get the model for the bacteria\n",
    "    model = vhs[bacteria]\n",
    "\n",
    "    # Get the exchange reactions for the model\n",
    "    model_exchanges = [rxn.id for rxn in model.exchanges]\n",
    "\n",
    "    # Filter the combined minimal medium to only include exchange reactions that are in the model\n",
    "    filtered_minimal_medium = {rxn: val for rxn, val in combined_minimal_medium_dict.items() if rxn in model_exchanges}\n",
    "\n",
    "    # Apply the filtered minimal medium to the model\n",
    "    vhs[bacteria].medium = filtered_minimal_medium\n"
   ]
  },
  {
   "cell_type": "markdown",
   "id": "9f23a21c",
   "metadata": {},
   "source": [
    "### Now we will implemente the amino acid defined medium that has been shown to allow growth of F. nucleatum"
   ]
  },
  {
   "cell_type": "code",
   "execution_count": 21,
   "id": "7fa95aaa",
   "metadata": {},
   "outputs": [],
   "source": [
    "# functions\n",
    "def media_creator(media_df,seed_dict,model,use_estimated_uptake=True):\n",
    "    \n",
    "    complex_media_dict = {}\n",
    "    met_ids=[seed_dict[k]+'[c]' for k in media_df.index]\n",
    "    model_mets=[met.id for met in model.metabolites]\n",
    "    \n",
    "    for met in met_ids:\n",
    "        if met in model_mets:\n",
    "            met_obj = model.metabolites.get_by_id(met).copy()\n",
    "            met_obj.id = met_obj.id[:-3]+'[e]'\n",
    "            if use_estimated_uptake:\n",
    "                met_index = met.split('[c]')[0]\n",
    "                met_index=bigg_seed_dict[met_index]\n",
    "                complex_media_dict[met_obj]=-1*media_df.loc[met_index,'estimated_uptake']\n",
    "            else:\n",
    "                complex_media_dict[met_obj] = -1000.0 # For now, assume -1000 instead of any values in the media file\n",
    "    met_obj = model.metabolites.get_by_id('nh4[c]').copy()\n",
    "    complex_media_dict[met_obj] = -1000\n",
    "    return complex_media_dict\n",
    "\n",
    "def set_media_from_minimal_media(model, media,minimal_medium, verbose=False):\n",
    "    \n",
    "    # Find and close all exchange reactions in the model\n",
    "    model_rxns = [rxn.id for rxn in model.reactions]\n",
    "    for rxn in model_rxns:\n",
    "        if rxn.startswith('EX_') and rxn.endswith('(e)'):\n",
    "            model.reactions.get_by_id(rxn).lower_bound = 0.0\n",
    "    \n",
    "    # Check for existence of exchange reactions for the media metabolites in the model\n",
    "    for ex_r in minimal_medium.keys():\n",
    "        model.reactions.get_by_id(ex_r).lower_bound= -minimal_medium[ex_r]\n",
    "    for met in media.keys():\n",
    "        if 'EX_'+met.id[:-3]+'(e)' in model_rxns:\n",
    "            model.reactions.get_by_id('EX_'+met.id[:-3]+'(e)').lower_bound = media[met]\n",
    "        else:\n",
    "            # Create exchange reaction and add to model\n",
    "            if verbose:\n",
    "                print(\"added exchange rxn for \" + met.name)\n",
    "            new_exchange = cobra.Reaction('EX_'+met.id[:-3]+'(e)')\n",
    "            new_exchange.name = met.name + ' exchange'\n",
    "            new_exchange.add_metabolites({met:-1})\n",
    "            new_exchange.lower_bound = media[met]\n",
    "            new_exchange.upper_bound = 1000\n",
    "            model.add_reactions([new_exchange])\n",
    "            model.repair() \n"
   ]
  },
  {
   "cell_type": "markdown",
   "id": "8a3019e2",
   "metadata": {},
   "source": [
    "Collect data and media file"
   ]
  },
  {
   "cell_type": "code",
   "execution_count": 22,
   "id": "9ed8e3e6",
   "metadata": {},
   "outputs": [],
   "source": [
    "\n",
    "data_dir = \"data\\\\\"\n",
    "import cobra.medium as m\n",
    "data_recon_metabolites = pd.read_csv(data_dir+'recon-store-metabolites-1.tsv',sep='\\t')\n",
    "seed_data = data_recon_metabolites.dropna(subset=['seed'])\n",
    "seed_dict=dict(zip(seed_data['seed'],seed_data['abbreviation']))\n",
    "bigg_seed_dict = dict(zip(seed_data['abbreviation'],seed_data['seed']))\n",
    "media_name= 'defined_media_used3.xlsx'\n",
    "\n",
    "media_file = os.path.join(data_dir,media_name)\n",
    "xl = pd.ExcelFile(media_file)\n",
    "media_data={}\n",
    "for sheet in xl.sheet_names:\n",
    "    media_data[sheet] = pd.read_excel(xl, sheet_name=sheet,index_col=0)\n",
    "model_media_dict = {k: media_creator(v, seed_dict, model) for k, v in media_data.items()}\n"
   ]
  },
  {
   "cell_type": "code",
   "execution_count": 23,
   "id": "2ebdc20b",
   "metadata": {},
   "outputs": [],
   "source": [
    "#Apply amino acid media to all bacteria and see metabolties produced\n",
    "#We will eliminate the carbon sources and O2 to make sure it is representative of an anaerobic amino acid media.\n"
   ]
  },
  {
   "cell_type": "code",
   "execution_count": 35,
   "id": "abee8306",
   "metadata": {},
   "outputs": [],
   "source": [
    "# For every bacteria set the AA media\n",
    "\n",
    "reactions_to_turn_off = ['EX_fru(e)','EX_acgam(e)','EX_fru(e)','EX_malt(e)','EX_o2(e)']\n",
    "\n",
    "for bacteria in vhs.keys():\n",
    "    # Get the model for the bacteria\n",
    "    set_media_from_minimal_media(vhs[bacteria],model_media_dict[\"AA\"],vhs[bacteria].medium)\n",
    "    for reaction in reactions_to_turn_off:\n",
    "        try:\n",
    "            vhs[bacteria].reactions.get_by_id(reaction).lower_bound = 0\n",
    "        except:\n",
    "            pass"
   ]
  },
  {
   "cell_type": "code",
   "execution_count": 44,
   "id": "d6774a20",
   "metadata": {},
   "outputs": [],
   "source": [
    "import seaborn as sns\n",
    "import matplotlib.pyplot as plt\n",
    "\n",
    "def get_metabolite_from_reaction(reaction):\n",
    "    # Split the reaction string on underscores and extract the second part\n",
    "    metabolite = reaction.split('_')[1]\n",
    "    return metabolite\n",
    "\n",
    "# 1. Collect consumption and production data\n",
    "metabolite_fluxes = {}\n",
    "\n",
    "for bacteria, model in vhs.items():\n",
    "    # Run the model and get the fluxes of the exchange reactions\n",
    "    solution = model.optimize()\n",
    "    fluxes = solution.fluxes\n",
    "    \n",
    "    # Filter the fluxes to only include exchange reactions\n",
    "    ex_fluxes = {rxn: flux for rxn, flux in fluxes.items() if rxn.startswith(\"EX_\")}\n",
    "    \n",
    "    # Determine which metabolites are consumed and produced\n",
    "    consumed = [get_metabolite_from_reaction(rxn) for rxn, flux in ex_fluxes.items() if flux < 0]\n",
    "    produced = [get_metabolite_from_reaction(rxn) for rxn, flux in ex_fluxes.items() if flux > 0]\n",
    "    \n",
    "    metabolite_fluxes[bacteria] = {\"consumed\": consumed, \"produced\": produced}\n",
    "\n",
    "# 2. Create a matrix of metabolites and models\n",
    "data = {}\n",
    "\n",
    "for bacteria, fluxes in metabolite_fluxes.items():\n",
    "    for metabolite in fluxes[\"consumed\"]:\n",
    "        if metabolite not in data:\n",
    "            data[metabolite] = {}\n",
    "        data[metabolite][bacteria] = -1  # Negative for consumed metabolites\n",
    "    \n",
    "    for metabolite in fluxes[\"produced\"]:\n",
    "        if metabolite not in data:\n",
    "            data[metabolite] = {}\n",
    "        data[metabolite][bacteria] = 1  # Positive for produced metabolites\n",
    "\n",
    "df = pd.DataFrame(data).transpose().fillna(0)\n",
    "\n",
    "\n"
   ]
  },
  {
   "cell_type": "code",
   "execution_count": 45,
   "id": "1d2e685e",
   "metadata": {},
   "outputs": [
    {
     "data": {
      "image/png": "[encoded data removed]",
      "text/plain": [
       "<Figure size 360x1440 with 2 Axes>"
      ]
     },
     "metadata": {},
     "output_type": "display_data"
    }
   ],
   "source": [
    "# Filter the DataFrame to include only rows with at least one positive and one negative value\n",
    "df_filtered = df[(df.T > 0).any() & (df.T < 0).any()]\n",
    "\n",
    "# Set a large figure size\n",
    "plt.figure(figsize=(5, 20))\n",
    "\n",
    "# Create the heatmap\n",
    "sns.heatmap(df_filtered, cmap=\"bwr\", center=0)\n",
    "\n",
    "# Rotate y-labels and increase their size\n",
    "plt.yticks(rotation=0)\n",
    "plt.tick_params(axis='y', which='major', labelsize=15)  # Increase font size\n",
    "plt.tick_params(axis='x', which='major', labelsize=15)  # Increase font size\n",
    "\n",
    "# Save the figure to a high-quality png file\n",
    "plt.savefig('results/cross-feeding/cross-feeding_FF.png', dpi=300)\n"
   ]
  },
  {
   "cell_type": "code",
   "execution_count": 41,
   "id": "4f2d144b",
   "metadata": {
    "scrolled": true
   },
   "outputs": [
    {
     "data": {
      "image/png": "[encoded data removed]",
      "text/plain": [
       "<Figure size 720x720 with 2 Axes>"
      ]
     },
     "metadata": {},
     "output_type": "display_data"
    }
   ],
   "source": [
    "# Create a dictionary to store the data\n",
    "data = {bacteria: {} for bacteria in vhs.keys()}\n",
    "\n",
    "# Go through each pair of bacteria\n",
    "for bacteria1 in vhs.keys():\n",
    "    for bacteria2 in vhs.keys():\n",
    "        # Get the metabolites produced by bacteria1 and consumed by bacteria2\n",
    "        produced = set(metabolite_fluxes[bacteria1][\"produced\"])\n",
    "        consumed = set(metabolite_fluxes[bacteria2][\"consumed\"])\n",
    "        \n",
    "        # Count the number of metabolites produced by bacteria1 and consumed by bacteria2\n",
    "        count = len(produced & consumed)\n",
    "        \n",
    "        # Store the count in the data dictionary\n",
    "        data[bacteria1][bacteria2] = count\n",
    "\n",
    "# Convert the data dictionary to a DataFrame\n",
    "df = pd.DataFrame(data)\n",
    "\n",
    "# Set a smaller figure size\n",
    "fig, ax = plt.subplots(figsize=(10, 10))\n",
    "\n",
    "# Create the heatmap\n",
    "sns.heatmap(df, cmap=\"coolwarm\", annot=True, annot_kws={\"size\": 20}, fmt=\"d\")\n",
    "\n",
    "# Set the x and y labels and increase their font size\n",
    "ax.set_xlabel('Consuming Bacteria', fontsize=12)\n",
    "ax.set_ylabel('Producing Bacteria', fontsize=12)\n",
    "\n",
    "# Rotate x-axis labels for better readability\n",
    "plt.xticks(rotation=90)\n",
    "\n",
    "# Save the figure to a high-quality png file\n",
    "plt.savefig('results/cross-feeding/cross-feeding_FF_numbers.png', dpi=300)"
   ]
  },
  {
   "cell_type": "code",
   "execution_count": 241,
   "id": "a20dc079",
   "metadata": {},
   "outputs": [
    {
     "data": {
      "text/plain": [
       "'Z:\\\\Post Doc\\\\PPE\\\\2HB\\\\Modelling'"
      ]
     },
     "execution_count": 241,
     "metadata": {},
     "output_type": "execute_result"
    }
   ],
   "source": [
    "os.getcwd()"
   ]
  },
  {
   "cell_type": "code",
   "execution_count": 251,
   "id": "6ec9f4ad",
   "metadata": {},
   "outputs": [
    {
     "name": "stdout",
     "output_type": "stream",
     "text": [
      "0.26.2 1.4.2 3.5.1 1.0.2 0.11.2\n"
     ]
    }
   ],
   "source": [
    "import matplotlib\n",
    "import sklearn\n",
    "\n",
    "print(cobra.__version__,pd.__version__,matplotlib.__version__,sklearn.__version__,sns.__version__)"
   ]
  },
  {
   "cell_type": "code",
   "execution_count": null,
   "id": "139a48c6",
   "metadata": {},
   "outputs": [],
   "source": []
  }
 ],
 "metadata": {
  "kernelspec": {
   "display_name": "Python 3 (ipykernel)",
   "language": "python",
   "name": "python3"
  },
  "language_info": {
   "codemirror_mode": {
    "name": "ipython",
    "version": 3
   },
   "file_extension": ".py",
   "mimetype": "text/x-python",
   "name": "python",
   "nbconvert_exporter": "python",
   "pygments_lexer": "ipython3",
   "version": "3.9.12"
  }
 },
 "nbformat": 4,
 "nbformat_minor": 5
}
